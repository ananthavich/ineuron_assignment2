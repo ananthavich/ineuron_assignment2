{
  "nbformat": 4,
  "nbformat_minor": 0,
  "metadata": {
    "colab": {
      "name": "assignment2.ipynb",
      "provenance": [],
      "collapsed_sections": []
    },
    "kernelspec": {
      "name": "python3",
      "display_name": "Python 3"
    }
  },
  "cells": [
    {
      "cell_type": "markdown",
      "metadata": {
        "id": "6-8dMZzWpvbX",
        "colab_type": "text"
      },
      "source": [
        "TASK 1"
      ]
    },
    {
      "cell_type": "markdown",
      "metadata": {
        "id": "IRY7N8xn12s4",
        "colab_type": "text"
      },
      "source": [
        "1.1"
      ]
    },
    {
      "cell_type": "code",
      "metadata": {
        "id": "bOD65pHC6xqI",
        "colab_type": "code",
        "outputId": "d3ad714d-4de4-443c-b31f-0cdbdec485b2",
        "colab": {
          "base_uri": "https://localhost:8080/",
          "height": 51
        }
      },
      "source": [
        "def multwo(a,b):#reduce function only for 2 variable\n",
        "    return a*b\n",
        "def myreduce(func,l,default = None):\n",
        "  if default == None:\n",
        "    x,y=l[0],l[1]\n",
        "    for i in range(1,len(l)-1):\n",
        "        x,y=func(x,y),l[i+1]\n",
        "    x=func(x,y)\n",
        "    print(x)\n",
        "  else:\n",
        "    x,y=default,l[0]\n",
        "    for i in range(1,len(l)):\n",
        "        x,y=func(x,y),l[i]\n",
        "    x=func(x,y)\n",
        "    print(x)\n",
        "l=[1,2,3,4]\n",
        "myreduce(multwo,l)\n",
        "myreduce(lambda a,b:a*b,l,5)"
      ],
      "execution_count": 0,
      "outputs": [
        {
          "output_type": "stream",
          "text": [
            "24\n",
            "120\n"
          ],
          "name": "stdout"
        }
      ]
    },
    {
      "cell_type": "markdown",
      "metadata": {
        "id": "qm9hwCKp14Dd",
        "colab_type": "text"
      },
      "source": [
        "1.2"
      ]
    },
    {
      "cell_type": "code",
      "metadata": {
        "id": "8Vbozz2rgWVQ",
        "colab_type": "code",
        "outputId": "4628f37e-3f45-43c7-9e9b-9d03a743b93e",
        "colab": {
          "base_uri": "https://localhost:8080/",
          "height": 34
        }
      },
      "source": [
        "def filt(func,l):#filter function \n",
        "    for i in l:\n",
        "          if func(i):\n",
        "              yield i\n",
        "l=[4,5,6,7,8,8,8,8]\n",
        "list(filt(lambda x:x%2==0,l))\n",
        "        "
      ],
      "execution_count": 0,
      "outputs": [
        {
          "output_type": "execute_result",
          "data": {
            "text/plain": [
              "[4, 6, 8, 8, 8, 8]"
            ]
          },
          "metadata": {
            "tags": []
          },
          "execution_count": 24
        }
      ]
    },
    {
      "cell_type": "markdown",
      "metadata": {
        "id": "iHc8BuMU1xIj",
        "colab_type": "text"
      },
      "source": [
        "2"
      ]
    },
    {
      "cell_type": "code",
      "metadata": {
        "id": "WflEiB2OjPQm",
        "colab_type": "code",
        "outputId": "86d5093e-8211-44a1-b0dc-34c0f575986f",
        "colab": {
          "base_uri": "https://localhost:8080/",
          "height": 34
        }
      },
      "source": [
        "l1=['x','y','z']\n",
        "l2=[]\n",
        "[[l2.append(i*m) for m in range(1,5)]for i in l1 ]\n",
        "print(l2)"
      ],
      "execution_count": 0,
      "outputs": [
        {
          "output_type": "execute_result",
          "data": {
            "text/plain": [
              "['x', 'xx', 'xxx', 'xxxx', 'y', 'yy', 'yyy', 'yyyy', 'z', 'zz', 'zzz', 'zzzz']"
            ]
          },
          "metadata": {
            "tags": []
          },
          "execution_count": 8
        }
      ]
    },
    {
      "cell_type": "code",
      "metadata": {
        "id": "wk_nB8W3nfRL",
        "colab_type": "code",
        "outputId": "e0c785aa-f77e-4ece-ef14-659fdc91a291",
        "colab": {
          "base_uri": "https://localhost:8080/",
          "height": 34
        }
      },
      "source": [
        "l1=['x','y','z']\n",
        "l2=[]\n",
        "[[l2.append(i*m) for m in l1]for i in range(1,5) ]\n",
        "print(l2)"
      ],
      "execution_count": 0,
      "outputs": [
        {
          "output_type": "stream",
          "text": [
            "['x', 'y', 'z', 'xx', 'yy', 'zz', 'xxx', 'yyy', 'zzz', 'xxxx', 'yyyy', 'zzzz']\n"
          ],
          "name": "stdout"
        }
      ]
    },
    {
      "cell_type": "code",
      "metadata": {
        "id": "zwTKMFu2tgcA",
        "colab_type": "code",
        "outputId": "7c71ce29-b84a-4f80-bf67-950c361e670a",
        "colab": {
          "base_uri": "https://localhost:8080/",
          "height": 34
        }
      },
      "source": [
        "l1=[2,3,4]\n",
        "l2=[]\n",
        "[[l2.append([m+i]) for m in l1]for i in range(3)]\n",
        "print(l2)"
      ],
      "execution_count": 0,
      "outputs": [
        {
          "output_type": "stream",
          "text": [
            "[[2], [3], [4], [3], [4], [5], [4], [5], [6]]\n"
          ],
          "name": "stdout"
        }
      ]
    },
    {
      "cell_type": "code",
      "metadata": {
        "id": "XlpAgpxSpvS0",
        "colab_type": "code",
        "outputId": "40bed972-cec5-434a-ece7-f418b2894b39",
        "colab": {
          "base_uri": "https://localhost:8080/",
          "height": 34
        }
      },
      "source": [
        "l1=[2,3,4,5]\n",
        "l2=[]\n",
        "[[m+i for m in l1]for i in range(4)]\n"
      ],
      "execution_count": 0,
      "outputs": [
        {
          "output_type": "execute_result",
          "data": {
            "text/plain": [
              "[[2, 3, 4, 5], [3, 4, 5, 6], [4, 5, 6, 7], [5, 6, 7, 8]]"
            ]
          },
          "metadata": {
            "tags": []
          },
          "execution_count": 32
        }
      ]
    },
    {
      "cell_type": "code",
      "metadata": {
        "id": "_AZakOYFuDUn",
        "colab_type": "code",
        "outputId": "6dbc72b1-20de-4929-91ff-72a4c69d6340",
        "colab": {
          "base_uri": "https://localhost:8080/",
          "height": 34
        }
      },
      "source": [
        "l1=[1,2,3]\n",
        "l2=[]\n",
        "[[l2.append((m,i)) for m in l1]for i in range(1,4)]\n",
        "print(l2)"
      ],
      "execution_count": 0,
      "outputs": [
        {
          "output_type": "stream",
          "text": [
            "[(1, 1), (2, 1), (3, 1), (1, 2), (2, 2), (3, 2), (1, 3), (2, 3), (3, 3)]\n"
          ],
          "name": "stdout"
        }
      ]
    },
    {
      "cell_type": "markdown",
      "metadata": {
        "id": "p-LCtlsA2QQZ",
        "colab_type": "text"
      },
      "source": [
        "3"
      ]
    },
    {
      "cell_type": "code",
      "metadata": {
        "id": "bLLWtHQb3oDF",
        "colab_type": "code",
        "outputId": "fa2356d1-743b-4289-eada-74c637b492c1",
        "colab": {
          "base_uri": "https://localhost:8080/",
          "height": 34
        }
      },
      "source": [
        "def longestword(l):\n",
        "  x=l[0]\n",
        "  for i in range(len(l)-1):\n",
        "    if len(x)>len(l[i+1]):\n",
        "        pass\n",
        "    else:\n",
        "       x=l[i+1]\n",
        "  return x\n",
        "l=['india','is','my','country','and','all','indians','are','my','brothers','and','sisters']\n",
        "longestword(l)"
      ],
      "execution_count": 0,
      "outputs": [
        {
          "output_type": "execute_result",
          "data": {
            "text/plain": [
              "'brothers'"
            ]
          },
          "metadata": {
            "tags": []
          },
          "execution_count": 20
        }
      ]
    },
    {
      "cell_type": "markdown",
      "metadata": {
        "id": "w5KqxKcF1ozm",
        "colab_type": "text"
      },
      "source": [
        "TASK 2\n"
      ]
    },
    {
      "cell_type": "markdown",
      "metadata": {
        "id": "vNUT_MNZ2mNA",
        "colab_type": "text"
      },
      "source": [
        "1.1"
      ]
    },
    {
      "cell_type": "code",
      "metadata": {
        "id": "j9AqA1hP2nZG",
        "colab_type": "code",
        "colab": {
          "base_uri": "https://localhost:8080/",
          "height": 85
        },
        "outputId": "b57da734-7fc0-4d84-f3d5-351e4f345fe7"
      },
      "source": [
        "class triangle_sides:\n",
        "  def __init__(self,a,b,c):\n",
        "    self.a=a\n",
        "    self.b=b\n",
        "    self.c=c\n",
        "class area_calc(triangle_sides):\n",
        "  def __init__(self,*args):\n",
        "    super(area_calc,self).__init__(*args)\n",
        "  def areacal(self):\n",
        "    s=(a+b+c)/2\n",
        "    return (((s*(s-a)*(s-b)*(s-c)) ** 0.5))\n",
        "a=int(input('Enter length of first side of a triangle :'))\n",
        "b=int(input('Enter length of second side of a triangle :'))\n",
        "c=int(input('Enter length of third side of a triangle :'))\n",
        "tri=area_calc(a,b,c)\n",
        "print('Area of triangle is :',tri.areacal())"
      ],
      "execution_count": 32,
      "outputs": [
        {
          "output_type": "stream",
          "text": [
            "Enter length of first side of a triangle :3\n",
            "Enter length of second side of a triangle :4\n",
            "Enter length of third side of a triangle :5\n",
            "Area of triangle is : 6.0\n"
          ],
          "name": "stdout"
        }
      ]
    },
    {
      "cell_type": "markdown",
      "metadata": {
        "id": "fQxwGYkN2ZPH",
        "colab_type": "text"
      },
      "source": [
        "1.2"
      ]
    },
    {
      "cell_type": "code",
      "metadata": {
        "id": "sJsu4-ng71PL",
        "colab_type": "code",
        "outputId": "b594d364-07d9-4b3e-ca14-8305867f9ddd",
        "colab": {
          "base_uri": "https://localhost:8080/",
          "height": 34
        }
      },
      "source": [
        "def filter_long_words(l,n):\n",
        "  return [i for i in l if len(i)>n]\n",
        "l=['india','is','my','country','and','all','indians','are','my','brothers','and','sisters']\n",
        "filter_long_words(l,5)\n"
      ],
      "execution_count": 0,
      "outputs": [
        {
          "output_type": "execute_result",
          "data": {
            "text/plain": [
              "['country', 'indians', 'brothers', 'sisters']"
            ]
          },
          "metadata": {
            "tags": []
          },
          "execution_count": 82
        }
      ]
    },
    {
      "cell_type": "markdown",
      "metadata": {
        "id": "XqktmwxB2ecA",
        "colab_type": "text"
      },
      "source": [
        "2.1"
      ]
    },
    {
      "cell_type": "code",
      "metadata": {
        "id": "jHMdMWFO5tPf",
        "colab_type": "code",
        "outputId": "970d13d5-7b75-4eb3-8164-08077242f5dd",
        "colab": {
          "base_uri": "https://localhost:8080/",
          "height": 34
        }
      },
      "source": [
        "def lenofwords(l):\n",
        "  return [len(i) for i in l]\n",
        "l=[ 'ab','cde','erty']\n",
        "lenofwords(l)\n"
      ],
      "execution_count": 0,
      "outputs": [
        {
          "output_type": "execute_result",
          "data": {
            "text/plain": [
              "[2, 3, 4]"
            ]
          },
          "metadata": {
            "tags": []
          },
          "execution_count": 69
        }
      ]
    },
    {
      "cell_type": "markdown",
      "metadata": {
        "id": "WkwN4KiV2hVd",
        "colab_type": "text"
      },
      "source": [
        "2.2\n"
      ]
    },
    {
      "cell_type": "code",
      "metadata": {
        "id": "7v-Ngri82jqD",
        "colab_type": "code",
        "colab": {
          "base_uri": "https://localhost:8080/",
          "height": 51
        },
        "outputId": "2b1d6d7f-656f-4ba5-ce56-7a4295ff334c"
      },
      "source": [
        "def isvowel(x,v):\n",
        "  for i in v:\n",
        "    if x == i :\n",
        "     return True\n",
        "    elif x == i.upper():\n",
        "     return True\n",
        "  else:\n",
        "     return False \n",
        "x=input('Enter a character :')\n",
        "v=('a','e','i','o','u')\n",
        "print('It is ',isvowel(x,v),'that the given character is vowel')"
      ],
      "execution_count": 48,
      "outputs": [
        {
          "output_type": "stream",
          "text": [
            "Enter a character :U\n",
            "It is  True that the given character is vowel\n"
          ],
          "name": "stdout"
        }
      ]
    },
    {
      "cell_type": "code",
      "metadata": {
        "id": "QBHTLwCwAs0k",
        "colab_type": "code",
        "colab": {}
      },
      "source": [
        ""
      ],
      "execution_count": 0,
      "outputs": []
    }
  ]
}